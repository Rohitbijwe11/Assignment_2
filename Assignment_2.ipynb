{
 "cells": [
  {
   "cell_type": "code",
   "execution_count": 11,
   "id": "c98c151e-25b7-4bc7-bb90-541020d96a22",
   "metadata": {},
   "outputs": [
    {
     "name": "stdin",
     "output_type": "stream",
     "text": [
      "write your percentage 88\n"
     ]
    },
    {
     "name": "stdout",
     "output_type": "stream",
     "text": [
      "B\n"
     ]
    }
   ],
   "source": [
    "Q1=percentage=int(input(\"write your percentage\"))\n",
    "if percentage >90:\n",
    "    print(\"A\")\n",
    "elif percentage >80 and percentage <=90:\n",
    "    print(\"B\")\n",
    "elif percentage >=60 and percentage<=80:\n",
    "    print(\"C\")\n",
    "else:\n",
    "    print(\"D\")"
   ]
  },
  {
   "cell_type": "code",
   "execution_count": 1,
   "id": "09fd43c8-046f-4402-93c9-fdfb051cc90a",
   "metadata": {},
   "outputs": [
    {
     "ename": "SyntaxError",
     "evalue": "invalid syntax (3777058244.py, line 1)",
     "output_type": "error",
     "traceback": [
      "\u001b[0;36m  Cell \u001b[0;32mIn[1], line 1\u001b[0;36m\u001b[0m\n\u001b[0;31m    Q2=def get_road_tax(cost_price):\u001b[0m\n\u001b[0m       ^\u001b[0m\n\u001b[0;31mSyntaxError\u001b[0m\u001b[0;31m:\u001b[0m invalid syntax\n"
     ]
    }
   ],
   "source": [
    "Q2=def get_road_tax(cost_price):\n",
    "    if cost_price > 100000:\n",
    "        return cost_price * 0.15\n",
    "    elif cost_price > 50000 and cost_price <= 100000:\n",
    "        return cost_price * 0.10\n",
    "    else:\n",
    "        return cost_price * 0.05\n",
    "\n",
    "cost_price = float(input(\"Enter the cost price of the bike in Rupees: \"))\n",
    "road_tax = get_road_tax(cost_price)\n",
    "print(\"The road tax to be paid is: Rs.\", road_tax)"
   ]
  },
  {
   "cell_type": "code",
   "execution_count": 16,
   "id": "a9d31216-d1b5-46f2-ae27-61720161e920",
   "metadata": {},
   "outputs": [
    {
     "name": "stdin",
     "output_type": "stream",
     "text": [
      "enter city name Agra\n"
     ]
    },
    {
     "name": "stdout",
     "output_type": "stream",
     "text": [
      "The monuments of that city is Taj Mahal\n"
     ]
    }
   ],
   "source": [
    "Q3=city={\"Delhi\":\"Red Fort\",\n",
    "         \"Agra\":\"Taj Mahal\",\n",
    "         \"Jaipur\":\"Jal Mahal\"}\n",
    "a=input(\"enter city name\")\n",
    "print(\"The monuments of that city is\" ,city[a])"
   ]
  },
  {
   "cell_type": "code",
   "execution_count": 22,
   "id": "fc5880d3-963b-462b-9b81-92fbabba2576",
   "metadata": {},
   "outputs": [
    {
     "data": {
      "text/plain": [
       "1"
      ]
     },
     "execution_count": 22,
     "metadata": {},
     "output_type": "execute_result"
    }
   ],
   "source": [
    "Q4=num=1\n",
    "count=0\n",
    "while num>10:\n",
    "    num=num/3\n",
    "    count+=1\n",
    "    print(num)\n",
    "num    "
   ]
  },
  {
   "cell_type": "code",
   "execution_count": 3,
   "id": "0db92bee-20bb-4a9b-aa18-f94636a6be32",
   "metadata": {},
   "outputs": [
    {
     "name": "stdout",
     "output_type": "stream",
     "text": [
      "1\n",
      "2\n",
      "3\n",
      "4\n",
      "5\n",
      "6\n",
      "7\n",
      "8\n",
      "9\n",
      "10\n"
     ]
    }
   ],
   "source": [
    "#Q5\n",
    "# A while loop in Python is used to repeatedly execute a block of code as long as a certain condition is true\n",
    "\n",
    "num=1\n",
    "while num <=10:\n",
    "    print(num)\n",
    "    num=num+1"
   ]
  },
  {
   "cell_type": "code",
   "execution_count": 4,
   "id": "41876180-d501-410e-a6d4-9402cae7e58a",
   "metadata": {},
   "outputs": [
    {
     "name": "stdout",
     "output_type": "stream",
     "text": [
      "1\n",
      "22\n",
      "333\n",
      "4444\n",
      "55555\n"
     ]
    }
   ],
   "source": [
    "Q4=i = 1\n",
    "while i <= 5:\n",
    "    j = 1\n",
    "    while j <= i:\n",
    "        print(i, end=\"\")\n",
    "        j += 1\n",
    "    print()\n",
    "    i += 1"
   ]
  },
  {
   "cell_type": "code",
   "execution_count": 5,
   "id": "06d6c455-c5b1-487f-8f02-fe7b8e678c35",
   "metadata": {},
   "outputs": [
    {
     "name": "stdout",
     "output_type": "stream",
     "text": [
      "10\n",
      "9\n",
      "8\n",
      "7\n",
      "6\n",
      "5\n",
      "4\n",
      "3\n",
      "2\n",
      "1\n"
     ]
    }
   ],
   "source": [
    "Q6=n = 10\n",
    "while n >= 1:\n",
    "    print(n)\n",
    "    n -= 1"
   ]
  },
  {
   "cell_type": "code",
   "execution_count": null,
   "id": "e1e6b005-197e-4619-a884-7f88843958c3",
   "metadata": {},
   "outputs": [],
   "source": []
  }
 ],
 "metadata": {
  "kernelspec": {
   "display_name": "Python 3 (ipykernel)",
   "language": "python",
   "name": "python3"
  },
  "language_info": {
   "codemirror_mode": {
    "name": "ipython",
    "version": 3
   },
   "file_extension": ".py",
   "mimetype": "text/x-python",
   "name": "python",
   "nbconvert_exporter": "python",
   "pygments_lexer": "ipython3",
   "version": "3.10.8"
  }
 },
 "nbformat": 4,
 "nbformat_minor": 5
}
